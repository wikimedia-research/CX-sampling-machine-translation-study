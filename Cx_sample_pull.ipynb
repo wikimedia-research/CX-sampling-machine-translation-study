{
 "cells": [
  {
   "cell_type": "markdown",
   "metadata": {},
   "source": [
    "# Machine Translation, human editors research: Retrieve CX Sample\n",
    "\n",
    "26 January 2021\n",
    "\n",
    "[Task](https://phabricator.wikimedia.org/T290906)"
   ]
  },
  {
   "cell_type": "markdown",
   "metadata": {},
   "source": [
    "The following process will be used to pull a sample that meets sample specifications, detailed in the [task description](https://phabricator.wikimedia.org/T290906)\n",
    "\n",
    "1. Write and run a query to generate a random sample of translation_ids that meet the requested article specifications using the CX databases (with joins to other data sources as needed).\n",
    "2. Use the results of the query to populate a spreadsheet that contains the translation_ids and requested meta data for each article in the sample.\n",
    "3. Use the translation_ids to obtain side by side comparison of the source, MT output and CX publication for each article (Provided in either spreadsheet form or viewed within the debugger tool interface)"
   ]
  },
  {
   "cell_type": "markdown",
   "metadata": {},
   "source": [
    "\n",
    "Notes:\n",
    "- Not enough cx translated articles to meet all the specified requirements requirements. Please see comments in task to learn the details of the adjustments. https://phabricator.wikimedia.org/T290906\n",
    "- Topic Model comes from research model of https://github.com/geohci/wikipedia-language-agnostic-topic-classification, which uses the ORES model.\n",
    "- Only published translations reviewed.\n",
    "- In the cx_translations translation_progress field, the human and machine translation percentages do not equal 100 and there are some instances of the human percent modified exceeding 100. Need to investigate causes and sources of this. Per the published translation data [page](https://www.mediawiki.org/wiki/Content_translation/Published_translations?useskin=vector-2022), \"Any edits to machine translation output are considered as manual edits. The percentages are calculated at section level. any indicates the total translation (any=human+mt). Content Translation does not demand full translation of the source article. Users can freely translate as many or as few sections as they want.\n",
    "- CX algorithm score = unmodified MT content. Per Santosh \" The overal MT percentage is what we have in database and that is what we use for deciding whether the translation can be published or not.\" See furhter information on CX score algorithm at https://github.com/wikimedia/mediawiki-extensions-ContentTranslation/blob/master/doc/MTAbuseCalculation.md\n"
   ]
  },
  {
   "cell_type": "code",
   "execution_count": 4,
   "metadata": {},
   "outputs": [
    {
     "name": "stderr",
     "output_type": "stream",
     "text": [
      "You are using wmfdata v1.3.2, but v1.3.3 is available.\n",
      "\n",
      "To update, run `pip install --upgrade git+https://github.com/wikimedia/wmfdata-python.git@release --ignore-installed`.\n",
      "\n",
      "To see the changes, refer to https://github.com/wikimedia/wmfdata-python/blob/release/CHANGELOG.md\n"
     ]
    }
   ],
   "source": [
    "import pandas as pd\n",
    "import numpy as np\n",
    "import datetime as dt\n",
    "from dateutil.relativedelta import relativedelta\n",
    "from datetime import date\n",
    "\n",
    "from wmfdata import hive, mariadb"
   ]
  },
  {
   "cell_type": "markdown",
   "metadata": {},
   "source": [
    "# Pull Translation IDs and Meta Data"
   ]
  },
  {
   "cell_type": "code",
   "execution_count": 477,
   "metadata": {},
   "outputs": [],
   "source": [
    "# pull translation ids and needed meta data\n",
    "\n",
    "query = \"\"\"\n",
    "\n",
    "SELECT\n",
    "    translation_id,\n",
    "    translation_target_title,\n",
    "    translation_started_by AS translator,\n",
    "    translation_source_language,\n",
    "    translation_target_language,\n",
    "    translation_start_timestamp,\n",
    "    cc.cxc_origin AS mt_service,\n",
    "    translation_last_updated_timestamp,\n",
    "    json_extract(translation_progress, '$.mt') AS mt_translated_percent, \n",
    "    CASE\n",
    "    WHEN json_extract(translation_progress, '$.human') < 0.10 THEN 'less than 10%'\n",
    "    WHEN (json_extract(translation_progress, '$.human') > 0.10 AND json_extract(translation_progress, '$.human') < 0.51) THEN 'between 11 and 50%'\n",
    "    ELSE 'over 50 percent'\n",
    "    END AS 'percent_MT_modified'-- need to parse a JSON object\n",
    "FROM\n",
    "    cx_translations\n",
    "    JOIN \n",
    "    cx_corpora AS cc\n",
    "    ON translation_id = cc.cxc_translation_id\n",
    "WHERE\n",
    "    translation_target_language IN ('sq', 'id', 'zh')\n",
    "    AND translation_source_language = 'en'\n",
    "    AND translation_status = 'published'\n",
    "\"\"\""
   ]
  },
  {
   "cell_type": "code",
   "execution_count": 478,
   "metadata": {},
   "outputs": [],
   "source": [
    "translations = mariadb.run(commands = query, dbs = 'wikishared', use_x1 = True, format=\"pandas\")"
   ]
  },
  {
   "cell_type": "code",
   "execution_count": 479,
   "metadata": {},
   "outputs": [
    {
     "name": "stdout",
     "output_type": "stream",
     "text": [
      "<class 'pandas.core.frame.DataFrame'>\n",
      "RangeIndex: 34719 entries, 0 to 34718\n",
      "Data columns (total 9 columns):\n",
      " #   Column                              Non-Null Count  Dtype \n",
      "---  ------                              --------------  ----- \n",
      " 0   translation_id                      34719 non-null  int64 \n",
      " 1   translation_target_title            34719 non-null  object\n",
      " 2   translator                          34719 non-null  int64 \n",
      " 3   translation_source_language         34719 non-null  object\n",
      " 4   translation_target_language         34719 non-null  object\n",
      " 5   translation_start_timestamp         34719 non-null  object\n",
      " 6   translation_last_updated_timestamp  34719 non-null  object\n",
      " 7   mt_translated_percent               34719 non-null  object\n",
      " 8   percent_MT_modified                 34719 non-null  object\n",
      "dtypes: int64(2), object(7)\n",
      "memory usage: 2.4+ MB\n"
     ]
    }
   ],
   "source": [
    "translations.info()"
   ]
  },
  {
   "cell_type": "markdown",
   "metadata": {},
   "source": [
    "# Find Translator Registration Date  \n",
    "\n",
    "This will be used to meet the following article specification: \"-50% of the articles should have been published by a ‘newer’ editor, defined here as an account created no longer than 2 years prior.\" To obtain this data, we'll use the https://www.mediawiki.org/wiki/Extension:CentralAuth/globaluser_table."
   ]
  },
  {
   "cell_type": "code",
   "execution_count": 480,
   "metadata": {},
   "outputs": [],
   "source": [
    "# obtain users global registration date\n",
    "#FIXME ADD way to just go through translator list\n",
    "query = '''\n",
    "SELECT\n",
    "    globaluser.gu_id AS user_id,\n",
    "    globaluser.gu_registration AS registration_date\n",
    "FROM\n",
    "    globaluser\n",
    "'''"
   ]
  },
  {
   "cell_type": "code",
   "execution_count": 481,
   "metadata": {},
   "outputs": [],
   "source": [
    "registrations = mariadb.run(commands = query, dbs = 'centralauth', format=\"pandas\")"
   ]
  },
  {
   "cell_type": "code",
   "execution_count": 482,
   "metadata": {},
   "outputs": [],
   "source": [
    "# Join with cx_translators data\n",
    "cx_translations_wexp = translations.join(registrations.set_index('user_id'), on = 'translator', how = 'left')"
   ]
  },
  {
   "cell_type": "code",
   "execution_count": 484,
   "metadata": {},
   "outputs": [
    {
     "name": "stdout",
     "output_type": "stream",
     "text": [
      "<class 'pandas.core.frame.DataFrame'>\n",
      "RangeIndex: 34719 entries, 0 to 34718\n",
      "Data columns (total 10 columns):\n",
      " #   Column                              Non-Null Count  Dtype \n",
      "---  ------                              --------------  ----- \n",
      " 0   translation_id                      34719 non-null  int64 \n",
      " 1   translation_target_title            34719 non-null  object\n",
      " 2   translator                          34719 non-null  int64 \n",
      " 3   translation_source_language         34719 non-null  object\n",
      " 4   translation_target_language         34719 non-null  object\n",
      " 5   translation_start_timestamp         34719 non-null  object\n",
      " 6   translation_last_updated_timestamp  34719 non-null  object\n",
      " 7   mt_translated_percent               34719 non-null  object\n",
      " 8   percent_MT_modified                 34719 non-null  object\n",
      " 9   registration_date                   34719 non-null  object\n",
      "dtypes: int64(2), object(8)\n",
      "memory usage: 2.6+ MB\n"
     ]
    }
   ],
   "source": [
    "cx_translations_wexp.info()"
   ]
  },
  {
   "cell_type": "code",
   "execution_count": 485,
   "metadata": {},
   "outputs": [],
   "source": [
    "# convert to datetime\n",
    "cx_translations_wexp.registration_date = pd.to_datetime(cx_translations_wexp['registration_date'], format='%Y%m%d%H%M%S')\n",
    "cx_translations_wexp.translation_start_timestamp = pd.to_datetime(cx_translations_wexp['translation_start_timestamp'], format='%Y%m%d%H%M%S')"
   ]
  },
  {
   "cell_type": "code",
   "execution_count": 486,
   "metadata": {},
   "outputs": [],
   "source": [
    "# find the time difference between translator registration date and translation\n",
    "cx_translations_wexp['time_since_registration'] = cx_translations_wexp.translation_start_timestamp - cx_translations_wexp.registration_date\n",
    "cx_translations_wexp['time_since_registration'] = cx_translations_wexp.time_since_registration/ np.timedelta64(1, \"Y\")"
   ]
  },
  {
   "cell_type": "markdown",
   "metadata": {},
   "source": [
    "# Find Articles that belong to Biography or Earth and Environment Topics"
   ]
  },
  {
   "cell_type": "code",
   "execution_count": 487,
   "metadata": {},
   "outputs": [],
   "source": [
    "#Find all Page IDS and titles Associated with Relevant Topics using topics table table\n",
    "## Reference: https://github.com/conniecc1/update_content_pv/blob/main/update_content_pv.ipynb\n",
    "##  https://github.com/jenniferwang-wmf/content_edit_daily/blob/master/content_edit_daily.ipynb\n",
    "query = \"\"\"\n",
    "SELECT\n",
    "    mwh.wiki_db,\n",
    "    mwh.page_id,\n",
    "    mwh.page_title,\n",
    "    topics.topic,\n",
    "    Count(*) As edit_count\n",
    "FROM wmf.mediawiki_history AS mwh\n",
    "INNER JOIN canonical_data.wikis cd ON mwh.wiki_db = cd.database_code AND\n",
    "    cd.database_group = \"wikipedia\"\n",
    "INNER JOIN isaacj.article_topics_outlinks_2021_11 topics ON (\n",
    "  cd.database_code =  topics.wiki_db\n",
    "  AND mwh.page_id = topics.pageid\n",
    "  AND topics.score >= 0.5\n",
    "  )\n",
    "WHERE \n",
    "    mwh.event_entity = 'revision'\n",
    "    AND mwh.event_type = 'create' \n",
    "    AND mwh.page_namespace = 0\n",
    "    AND mwh.snapshot = '{SNAPSHOT}'\n",
    "    AND mwh.wiki_db IN ('sqwiki', 'idwiki', 'zhwiki') \n",
    "    AND(topics.topic LIKE 'Culture.Biography.Biography%' OR\n",
    "    topic LIKE 'STEM.Earth_and_environment%')\n",
    "GROUP BY\n",
    "   mwh.wiki_db,\n",
    "    mwh.page_id,\n",
    "    mwh.page_title,\n",
    "    topics.topic\n",
    "\"\"\""
   ]
  },
  {
   "cell_type": "code",
   "execution_count": 488,
   "metadata": {},
   "outputs": [],
   "source": [
    "pages = hive.run(query.format(SNAPSHOT='2021-12'))"
   ]
  },
  {
   "cell_type": "code",
   "execution_count": 503,
   "metadata": {},
   "outputs": [],
   "source": [
    "# join with table to add topic info.\n",
    "# inner join to exclude all articles that don't fit into these 2 categories\n",
    "cx_translations_wexp_andtopic = cx_translations_wexp.merge(pages, how = 'inner', left_on = 'translation_target_title', right_on = 'page_title')"
   ]
  },
  {
   "cell_type": "code",
   "execution_count": 504,
   "metadata": {},
   "outputs": [
    {
     "name": "stdout",
     "output_type": "stream",
     "text": [
      "<class 'pandas.core.frame.DataFrame'>\n",
      "Int64Index: 3511 entries, 0 to 3510\n",
      "Data columns (total 16 columns):\n",
      " #   Column                              Non-Null Count  Dtype         \n",
      "---  ------                              --------------  -----         \n",
      " 0   translation_id                      3511 non-null   int64         \n",
      " 1   translation_target_title            3511 non-null   object        \n",
      " 2   translator                          3511 non-null   int64         \n",
      " 3   translation_source_language         3511 non-null   object        \n",
      " 4   translation_target_language         3511 non-null   object        \n",
      " 5   translation_start_timestamp         3511 non-null   datetime64[ns]\n",
      " 6   translation_last_updated_timestamp  3511 non-null   object        \n",
      " 7   mt_translated_percent               3511 non-null   object        \n",
      " 8   percent_MT_modified                 3511 non-null   object        \n",
      " 9   registration_date                   3511 non-null   datetime64[ns]\n",
      " 10  time_since_registration             3511 non-null   float64       \n",
      " 11  wiki_db                             3511 non-null   object        \n",
      " 12  page_id                             3511 non-null   int64         \n",
      " 13  page_title                          3511 non-null   object        \n",
      " 14  topic                               3511 non-null   object        \n",
      " 15  edit_count                          3511 non-null   int64         \n",
      "dtypes: datetime64[ns](2), float64(1), int64(4), object(9)\n",
      "memory usage: 466.3+ KB\n"
     ]
    }
   ],
   "source": [
    "cx_translations_wexp_andtopic.info()"
   ]
  },
  {
   "cell_type": "markdown",
   "metadata": {},
   "source": [
    "# Identify Experienced Editors \n",
    "\n",
    "The other half of articles should have been published by editors with CX publications beginning at least 3 years prior. To calculate this, we need to group by all users (translation_started_by) and find where min date is >= 3 years max date."
   ]
  },
  {
   "cell_type": "code",
   "execution_count": 506,
   "metadata": {},
   "outputs": [],
   "source": [
    "# Find first translation dates\n",
    "first_translation_dates = cx_translations_wexp_andtopic.groupby('translator').agg({'translation_start_timestamp':['min']}).reset_index()"
   ]
  },
  {
   "cell_type": "code",
   "execution_count": 507,
   "metadata": {},
   "outputs": [],
   "source": [
    "# Fix column names for merging\n",
    "first_translation_dates.columns = first_translation_dates.columns.get_level_values(0)\n",
    "first_translation_dates_fixed = first_translation_dates.rename(columns={\"translator\": \"translator\", \"translation_start_timestamp\": \"first_translation_date\"})"
   ]
  },
  {
   "cell_type": "code",
   "execution_count": 508,
   "metadata": {},
   "outputs": [],
   "source": [
    "# Join First Dates to translation id data frame\n",
    "cx_translations_wexp_andtopic = cx_translations_wexp_andtopic.join(first_translation_dates_fixed.set_index('translator'), on = 'translator', how = 'right')"
   ]
  },
  {
   "cell_type": "code",
   "execution_count": 509,
   "metadata": {},
   "outputs": [],
   "source": [
    "# Find last translation date\n",
    "last_translation_dates = cx_translations_wexp_andtopic.groupby('translator').agg({'translation_start_timestamp':['max']}).reset_index()"
   ]
  },
  {
   "cell_type": "code",
   "execution_count": 510,
   "metadata": {},
   "outputs": [],
   "source": [
    "# Fix column names for merging\n",
    "last_translation_dates.columns = last_translation_dates.columns.get_level_values(0)\n",
    "last_translation_dates_fixed = last_translation_dates.rename(columns={\"translator\": \"translator\", \"translation_start_timestamp\": \"last_translation_date\"})"
   ]
  },
  {
   "cell_type": "code",
   "execution_count": 511,
   "metadata": {},
   "outputs": [],
   "source": [
    "# Join Last Dates to translation id data frame\n",
    "cx_translations_wexp_andtopic = cx_translations_wexp_andtopic.join(last_translation_dates_fixed.set_index('translator'), on = 'translator', how = 'right')"
   ]
  },
  {
   "cell_type": "code",
   "execution_count": 512,
   "metadata": {},
   "outputs": [],
   "source": [
    "# Find difference in first and last translation date\n",
    "\n",
    "cx_translations_wexp_andtopic['time_since_first_translation'] = cx_translations_wexp_andtopic.last_translation_date - cx_translations_wexp_andtopic.first_translation_date"
   ]
  },
  {
   "cell_type": "code",
   "execution_count": 513,
   "metadata": {},
   "outputs": [],
   "source": [
    "cx_translations_wexp_andtopic['time_since_first_translation'] = cx_translations_wexp_andtopic.time_since_first_translation/ np.timedelta64(1, \"Y\")"
   ]
  },
  {
   "cell_type": "code",
   "execution_count": 514,
   "metadata": {},
   "outputs": [],
   "source": [
    "# add column to categorize translator experience\n",
    "## 50% of the articles should have been published by a ‘newer’ editor, defined here as an account created no longer than 2 years prior. \n",
    "\n",
    "cx_translations_wexp_andtopic['user_tenure'] = np.select(\n",
    "    [\n",
    "        cx_translations_wexp_andtopic['time_since_registration'].between(0, 2, inclusive=False),\n",
    "    ], \n",
    "    [\n",
    "        'junior', \n",
    "    ], \n",
    "    default='senior'\n",
    ")"
   ]
  },
  {
   "cell_type": "code",
   "execution_count": 515,
   "metadata": {},
   "outputs": [],
   "source": [
    "# add column to categorize translator experience\n",
    "## The other half of articles should have been published by editors with CX publications beginning at least 3 years prior.\n",
    "\n",
    "cx_translations_wexp_andtopic['translator_experience'] = np.select(\n",
    "    [\n",
    "        cx_translations_wexp_andtopic['time_since_first_translation'].ge(3),\n",
    "    ], \n",
    "    [\n",
    "        'experienced', \n",
    "    ], \n",
    "    default='new'\n",
    ")"
   ]
  },
  {
   "cell_type": "markdown",
   "metadata": {},
   "source": [
    "# QA Checks"
   ]
  },
  {
   "cell_type": "code",
   "execution_count": 43,
   "metadata": {},
   "outputs": [
    {
     "data": {
      "text/html": [
       "<div>\n",
       "<style scoped>\n",
       "    .dataframe tbody tr th:only-of-type {\n",
       "        vertical-align: middle;\n",
       "    }\n",
       "\n",
       "    .dataframe tbody tr th {\n",
       "        vertical-align: top;\n",
       "    }\n",
       "\n",
       "    .dataframe thead th {\n",
       "        text-align: right;\n",
       "    }\n",
       "</style>\n",
       "<table border=\"1\" class=\"dataframe\">\n",
       "  <thead>\n",
       "    <tr style=\"text-align: right;\">\n",
       "      <th></th>\n",
       "      <th>translation_id</th>\n",
       "      <th>translator</th>\n",
       "      <th>translation_target_language</th>\n",
       "      <th>translation_start_timestamp</th>\n",
       "      <th>translation_target_revision_id</th>\n",
       "      <th>translation_last_updated_timestamp</th>\n",
       "      <th>percent modified</th>\n",
       "      <th>registration_date</th>\n",
       "      <th>diff_years</th>\n",
       "      <th>user_tenure</th>\n",
       "    </tr>\n",
       "  </thead>\n",
       "  <tbody>\n",
       "  </tbody>\n",
       "</table>\n",
       "</div>"
      ],
      "text/plain": [
       "Empty DataFrame\n",
       "Columns: [translation_id, translator, translation_target_language, translation_start_timestamp, translation_target_revision_id, translation_last_updated_timestamp, percent modified, registration_date, diff_years, user_tenure]\n",
       "Index: []"
      ]
     },
     "execution_count": 43,
     "metadata": {},
     "output_type": "execute_result"
    }
   ],
   "source": [
    "# find if there are any duplicate translation ids\n",
    "\n",
    "ids = cx_translations_wexp['translation_id']\n",
    "cx_translations_wexp[ids.isin(ids[ids.duplicated()])]"
   ]
  },
  {
   "cell_type": "code",
   "execution_count": null,
   "metadata": {},
   "outputs": [],
   "source": [
    "translators = cx_translations_wexp['translator']\n",
    "cx_translations_wexp[translators.isin(translators[translators.duplicated()])]"
   ]
  },
  {
   "cell_type": "code",
   "execution_count": null,
   "metadata": {},
   "outputs": [],
   "source": [
    "Confirmed there are no duplicate translation ids but there are duplicate translators as expected"
   ]
  },
  {
   "cell_type": "markdown",
   "metadata": {},
   "source": [
    "# Save samples table"
   ]
  },
  {
   "cell_type": "code",
   "execution_count": 516,
   "metadata": {},
   "outputs": [],
   "source": [
    "cx_translations_wexp_andtopic.to_csv(\"Data/translations_raw_data.csv\")"
   ]
  },
  {
   "cell_type": "markdown",
   "metadata": {},
   "source": [
    "# Pull Sample\n",
    "\n",
    "This was done using the raw data in excel.\n",
    "\n",
    "**Requirements**\n",
    "- 50 random articles for each wiki\n",
    "- Need to pull 50% with newer editor and 50% older (25 and 25)\n",
    "- Need to pull equal split across the three percent modified categories\n",
    "- At least 10 or more individual editors, with no individual editor contributing more than 5 articles"
   ]
  }
 ],
 "metadata": {
  "kernelspec": {
   "display_name": "Python 3",
   "language": "python",
   "name": "python3"
  },
  "language_info": {
   "codemirror_mode": {
    "name": "ipython",
    "version": 3
   },
   "file_extension": ".py",
   "mimetype": "text/x-python",
   "name": "python",
   "nbconvert_exporter": "python",
   "pygments_lexer": "ipython3",
   "version": "3.7.8"
  }
 },
 "nbformat": 4,
 "nbformat_minor": 4
}
